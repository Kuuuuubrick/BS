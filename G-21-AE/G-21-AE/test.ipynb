{
 "cells": [
  {
   "cell_type": "code",
   "execution_count": 13,
   "metadata": {},
   "outputs": [],
   "source": [
    "import file_process\n",
    "import networkx as nx\n",
    "import matplotlib.pyplot as plt\n",
    "import env_manager"
   ]
  },
  {
   "cell_type": "code",
   "execution_count": 14,
   "metadata": {},
   "outputs": [],
   "source": [
    "list_file_graph=['g_27']"
   ]
  },
  {
   "cell_type": "code",
   "execution_count": 61,
   "metadata": {},
   "outputs": [
    {
     "data": {
      "application/vnd.jupyter.widget-view+json": {
       "model_id": "72c904d681114e828e0519070443afe6",
       "version_major": 2,
       "version_minor": 0
      },
      "text/plain": [
       "Computing transition probabilities:   0%|          | 0/30 [00:00<?, ?it/s]"
      ]
     },
     "metadata": {},
     "output_type": "display_data"
    }
   ],
   "source": [
    "em = env_manager.EnvManager(list_file_graph=list_file_graph)"
   ]
  },
  {
   "cell_type": "code",
   "execution_count": 62,
   "metadata": {},
   "outputs": [],
   "source": [
    "env=em.list_env[0]"
   ]
  },
  {
   "cell_type": "code",
   "execution_count": 17,
   "metadata": {},
   "outputs": [
    {
     "data": {
      "application/vnd.jupyter.widget-view+json": {
       "model_id": "68ab6c326cce4e2283e4c14e10dd98b9",
       "version_major": 2,
       "version_minor": 0
      },
      "text/plain": [
       "Computing transition probabilities:   0%|          | 0/30 [00:00<?, ?it/s]"
      ]
     },
     "metadata": {},
     "output_type": "display_data"
    }
   ],
   "source": [
    "next_obs, reward, done=env.step(1)"
   ]
  },
  {
   "cell_type": "code",
   "execution_count": 63,
   "metadata": {},
   "outputs": [],
   "source": [
    "obs = env.obs"
   ]
  },
  {
   "cell_type": "code",
   "execution_count": 78,
   "metadata": {},
   "outputs": [],
   "source": [
    "tensor = obs.T"
   ]
  },
  {
   "cell_type": "code",
   "execution_count": 80,
   "metadata": {},
   "outputs": [
    {
     "data": {
      "text/plain": [
       "torch.Size([1, 30])"
      ]
     },
     "execution_count": 80,
     "metadata": {},
     "output_type": "execute_result"
    }
   ],
   "source": [
    "tensor.shape"
   ]
  },
  {
   "cell_type": "code",
   "execution_count": 24,
   "metadata": {},
   "outputs": [],
   "source": [
    "from modules import MLP"
   ]
  },
  {
   "cell_type": "code",
   "execution_count": 25,
   "metadata": {},
   "outputs": [],
   "source": [
    "q_func = MLP(30,30)"
   ]
  },
  {
   "cell_type": "code",
   "execution_count": 28,
   "metadata": {},
   "outputs": [
    {
     "data": {
      "text/plain": [
       "DiscreteActionValue greedy_actions:[17] q_values:[[ 0.134734   -0.15081516 -0.07564077  0.07830541 -0.0243895   0.14639059\n",
       "   0.08749475  0.09740581 -0.15698409 -0.0137997  -0.16769657 -0.10981674\n",
       "  -0.07042955 -0.06060321 -0.12328409 -0.04983753  0.21039611  0.25099194\n",
       "   0.00386638  0.15092005  0.01886743 -0.13013977 -0.03549981 -0.03478628\n",
       "  -0.00788008 -0.10640189 -0.06051455 -0.11519583 -0.18017195  0.09260904]]"
      ]
     },
     "execution_count": 28,
     "metadata": {},
     "output_type": "execute_result"
    }
   ],
   "source": [
    "q_func.forward(tensor)"
   ]
  },
  {
   "cell_type": "code",
   "execution_count": 29,
   "metadata": {},
   "outputs": [],
   "source": [
    "from Auto_Encoder import Auto_Encoder"
   ]
  },
  {
   "cell_type": "code",
   "execution_count": 31,
   "metadata": {},
   "outputs": [],
   "source": [
    "ae = Auto_Encoder(30)"
   ]
  },
  {
   "cell_type": "code",
   "execution_count": 36,
   "metadata": {},
   "outputs": [],
   "source": [
    "import torch"
   ]
  },
  {
   "cell_type": "code",
   "execution_count": 77,
   "metadata": {},
   "outputs": [
    {
     "data": {
      "text/plain": [
       "tensor([[-0.2251,  1.1957,  0.6450, -0.7688,  0.7911,  0.0343, -0.1131,  0.2159,\n",
       "          0.6165,  1.0483,  0.7743, -0.0814,  1.1957, -0.0808, -0.6806,  0.3372,\n",
       "         -0.4022,  0.0555,  0.4615, -0.8343, -0.9438, -0.7306, -1.0454, -0.6094,\n",
       "          0.9980,  1.0990, -0.5077,  0.0584, -1.1862, -0.5295]])"
      ]
     },
     "execution_count": 77,
     "metadata": {},
     "output_type": "execute_result"
    }
   ],
   "source": [
    "tensor"
   ]
  },
  {
   "cell_type": "code",
   "execution_count": 69,
   "metadata": {},
   "outputs": [
    {
     "data": {
      "text/plain": [
       "12"
      ]
     },
     "execution_count": 69,
     "metadata": {},
     "output_type": "execute_result"
    }
   ],
   "source": [
    "torch.argmax(tensor).item()"
   ]
  },
  {
   "cell_type": "code",
   "execution_count": 76,
   "metadata": {},
   "outputs": [],
   "source": [
    "tensor[0,1]=tensor[0,12]"
   ]
  },
  {
   "cell_type": "code",
   "execution_count": 88,
   "metadata": {},
   "outputs": [],
   "source": [
    "tensor1 = torch.rand(1,30)\n",
    "tensor2 = torch.rand(1,30)"
   ]
  },
  {
   "cell_type": "code",
   "execution_count": 89,
   "metadata": {},
   "outputs": [
    {
     "data": {
      "text/plain": [
       "(tensor([[0.5937, 0.0038, 0.8616, 0.2120, 0.8948, 0.5134, 0.2550, 0.2588, 0.4323,\n",
       "          0.7329, 0.9744, 0.6170, 0.4268, 0.0971, 0.4553, 0.4788, 0.7462, 0.8045,\n",
       "          0.6670, 0.1325, 0.9117, 0.9102, 0.2482, 0.7476, 0.8174, 0.0724, 0.3754,\n",
       "          0.9965, 0.6207, 0.6613]]),\n",
       " tensor([[0.5317, 0.6370, 0.1434, 0.3307, 0.5552, 0.6207, 0.1161, 0.8287, 0.6522,\n",
       "          0.0877, 0.5716, 0.0242, 0.1458, 0.7348, 0.6251, 0.4096, 0.7796, 0.7968,\n",
       "          0.5252, 0.9756, 0.5524, 0.4655, 0.7715, 0.8274, 0.3210, 0.8642, 0.6489,\n",
       "          0.2909, 0.5091, 0.5664]]))"
      ]
     },
     "execution_count": 89,
     "metadata": {},
     "output_type": "execute_result"
    }
   ],
   "source": [
    "tensor1,tensor2"
   ]
  },
  {
   "cell_type": "code",
   "execution_count": 107,
   "metadata": {},
   "outputs": [],
   "source": [
    "t=torch.cat((tensor1,tensor2),0)"
   ]
  },
  {
   "cell_type": "code",
   "execution_count": 108,
   "metadata": {},
   "outputs": [
    {
     "data": {
      "text/plain": [
       "torch.Size([2, 30])"
      ]
     },
     "execution_count": 108,
     "metadata": {},
     "output_type": "execute_result"
    }
   ],
   "source": [
    "t.shape"
   ]
  },
  {
   "cell_type": "code",
   "execution_count": 105,
   "metadata": {},
   "outputs": [
    {
     "name": "stdout",
     "output_type": "stream",
     "text": [
      "tensor([[[1., 1.],\n",
      "         [1., 1.]],\n",
      "\n",
      "        [[1., 1.],\n",
      "         [1., 1.]]])\n",
      "torch.Size([2, 2, 2])\n",
      "tensor([[[1., 1.],\n",
      "         [1., 1.],\n",
      "         [0., 0.],\n",
      "         [0., 0.]],\n",
      "\n",
      "        [[1., 1.],\n",
      "         [1., 1.],\n",
      "         [0., 0.],\n",
      "         [0., 0.]]])\n",
      "torch.Size([2, 4, 2])\n"
     ]
    }
   ],
   "source": [
    "Y = torch.ones(2, 2, 2)\n",
    "print(Y)\n",
    "print(Y.shape)\n",
    "y3= torch.zeros(2, 2, 2)\n",
    "y4 = torch.cat((Y,y3),1)  # 在第一维上进行cat拼接\n",
    "print(y4)\n",
    "print(y4.shape)"
   ]
  },
  {
   "cell_type": "code",
   "execution_count": 109,
   "metadata": {},
   "outputs": [],
   "source": [
    "import csv"
   ]
  },
  {
   "cell_type": "code",
   "execution_count": null,
   "metadata": {},
   "outputs": [],
   "source": [
    "fileHeader = [\"name\", \"score\"]\n",
    "\n",
    "# 假设我们要写入的是以下两行数据\n",
    "d1 = [\"Wang\", \"100\"]\n",
    "d2 = [\"Li\", \"80\"]\n",
    "\n",
    "# 写入数据\n",
    "\n",
    "csvFile = open(\"instance.csv\", \"w\")\n",
    "writer = csv.writer(csvFile)\n",
    "\n",
    "# 写入的内容都是以列表的形式传入函数\n",
    "writer.writerow(fileHeader)\n",
    "writer.writerow(d1)\n",
    "writer.writerow(d1)\n",
    "\n",
    "csvFile.close()"
   ]
  },
  {
   "cell_type": "code",
   "execution_count": 110,
   "metadata": {},
   "outputs": [],
   "source": [
    "fileHeader = [\"name\", \"score\"]\n",
    "\n",
    "# 假设我们要写入的是以下两行数据\n",
    "d1 = [\"Wang\", \"100\"]\n",
    "d2 = [\"Li\", \"80\"]"
   ]
  },
  {
   "cell_type": "code",
   "execution_count": 116,
   "metadata": {},
   "outputs": [],
   "source": [
    "with open(\"instance.csv\", \"w\",encoding='utf8', newline='') as f:\n",
    "    writer = csv.writer(f)\n",
    "    writer.writerow(fileHeader)\n",
    "    writer.writerow(d1)\n",
    "    f.close()"
   ]
  },
  {
   "cell_type": "code",
   "execution_count": 113,
   "metadata": {},
   "outputs": [
    {
     "ename": "ValueError",
     "evalue": "I/O operation on closed file.",
     "output_type": "error",
     "traceback": [
      "\u001b[1;31m---------------------------------------------------------------------------\u001b[0m",
      "\u001b[1;31mValueError\u001b[0m                                Traceback (most recent call last)",
      "Cell \u001b[1;32mIn[113], line 1\u001b[0m\n\u001b[1;32m----> 1\u001b[0m \u001b[43mwriter\u001b[49m\u001b[38;5;241;43m.\u001b[39;49m\u001b[43mwriterow\u001b[49m\u001b[43m(\u001b[49m\u001b[43md1\u001b[49m\u001b[43m)\u001b[49m\n",
      "\u001b[1;31mValueError\u001b[0m: I/O operation on closed file."
     ]
    }
   ],
   "source": [
    "writer.writerow(d1)"
   ]
  },
  {
   "cell_type": "code",
   "execution_count": 118,
   "metadata": {},
   "outputs": [],
   "source": [
    "fileHeader = [\"Episode\", \"step\", 'reward', 'total_reward']\n",
    "with open(\"result.csv\", \"a\", encoding='utf8', newline='') as f:\n",
    "    writer = csv.writer(f)\n",
    "    writer.writerow(fileHeader)\n",
    "    f.close()"
   ]
  },
  {
   "cell_type": "code",
   "execution_count": 1,
   "metadata": {},
   "outputs": [],
   "source": [
    "import torch"
   ]
  },
  {
   "cell_type": "code",
   "execution_count": 2,
   "metadata": {},
   "outputs": [
    {
     "data": {
      "text/plain": [
       "True"
      ]
     },
     "execution_count": 2,
     "metadata": {},
     "output_type": "execute_result"
    }
   ],
   "source": [
    "torch.cuda.is_available()"
   ]
  }
 ],
 "metadata": {
  "kernelspec": {
   "display_name": "PyTorch-1.8",
   "language": "python",
   "name": "pytorch-1.8"
  },
  "language_info": {
   "codemirror_mode": {
    "name": "ipython",
    "version": 3
   },
   "file_extension": ".py",
   "mimetype": "text/x-python",
   "name": "python",
   "nbconvert_exporter": "python",
   "pygments_lexer": "ipython3",
   "version": "3.7.10"
  }
 },
 "nbformat": 4,
 "nbformat_minor": 4
}
